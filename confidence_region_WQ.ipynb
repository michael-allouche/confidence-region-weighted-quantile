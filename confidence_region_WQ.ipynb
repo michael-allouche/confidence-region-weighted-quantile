{
 "cells": [
  {
   "cell_type": "code",
   "execution_count": null,
   "id": "37ad139e-11b6-4380-b113-db6dbdd14d97",
   "metadata": {
    "ExecuteTime": {
     "end_time": "2025-10-31T15:17:46.761146Z",
     "start_time": "2025-10-31T15:17:46.743840Z"
    }
   },
   "outputs": [],
   "source": [
    "import numpy as np\n",
    "import pandas as pd\n",
    "import matplotlib.pyplot as plt\n",
    "import seaborn as sns\n",
    "import pickle\n",
    "import scipy.stats as st\n",
    "\n",
    "from simulation import data_simulation, DICT_SCENARIOS\n",
    "from models import fit_ci, get_real_data, weighted_quantile, weighted_es\n",
    "\n",
    "sns.set_style(\"whitegrid\")\n",
    "\n",
    "%load_ext autoreload\n",
    "%autoreload 2"
   ]
  },
  {
   "cell_type": "markdown",
   "id": "0e35f3f4-1efa-43ec-b63f-aca68d7a75be",
   "metadata": {},
   "source": [
    "# Weighted Quantile Coverage Probability"
   ]
  },
  {
   "cell_type": "markdown",
   "id": "7f3158b0-90cf-44a8-8206-f089c8e1f0e8",
   "metadata": {},
   "source": [
    "## Real quantile"
   ]
  },
  {
   "cell_type": "code",
   "execution_count": null,
   "id": "5a41e760-efa2-4424-a684-5605e491f903",
   "metadata": {
    "ExecuteTime": {
     "end_time": "2025-10-31T15:16:46.853022Z",
     "start_time": "2025-10-31T15:16:46.832421Z"
    }
   },
   "outputs": [],
   "source": [
    "SCENARIO = 1  # scenario number\n",
    "N_REAL = 10000000 # number of real simulations to estimate qW\n",
    "THETA = 2  # dependence parameter in the Gumbel Copula\n",
    "ALPHA = 0.5  # risk level between 0 and 1"
   ]
  },
  {
   "cell_type": "code",
   "execution_count": null,
   "id": "09f7ea39-c64d-49a8-a957-579e31abd29b",
   "metadata": {
    "ExecuteTime": {
     "end_time": "2025-10-31T15:16:49.344643Z",
     "start_time": "2025-10-31T15:16:47.602512Z"
    }
   },
   "outputs": [],
   "source": [
    "X_real, W_real = data_simulation(scenario=SCENARIO, n=N_REAL, theta=THETA, seed=123)"
   ]
  },
  {
   "cell_type": "code",
   "execution_count": null,
   "id": "f65c34d2-585c-47b3-ba31-4134ec3a0f76",
   "metadata": {
    "ExecuteTime": {
     "end_time": "2025-10-31T15:16:49.737620Z",
     "start_time": "2025-10-31T15:16:49.717574Z"
    }
   },
   "outputs": [],
   "source": [
    "# Scatter plot of (X,W)\n",
    "show_data = False\n",
    "if show_data:\n",
    "    fig, ax = plt.subplots(figsize=(9,6))\n",
    "    plt.scatter(X_real, W_real, s=10, edgecolors='black')\n",
    "    plt.xlabel(r'$X$', fontsize=20)\n",
    "    plt.ylabel(r'$W$', fontsize=20)\n",
    "    plt.xticks(fontsize=20)\n",
    "    plt.yticks(fontsize=20)\n",
    "    ax.spines[\"left\"].set_color(\"black\")\n",
    "    ax.spines[\"bottom\"].set_color(\"black\")\n",
    "    sns.despine()  \n",
    "    #plt.savefig('imgs/data.jpg')"
   ]
  },
  {
   "cell_type": "code",
   "execution_count": null,
   "id": "c9d74873-67aa-4e3f-8e13-c9c195a56099",
   "metadata": {
    "ExecuteTime": {
     "end_time": "2025-10-31T15:16:55.484935Z",
     "start_time": "2025-10-31T15:16:54.254788Z"
    }
   },
   "outputs": [],
   "source": [
    "# Compute the real quantile\n",
    "qW_real = weighted_quantile(X_real, W_real, ALPHA)\n",
    "qW_real"
   ]
  },
  {
   "cell_type": "markdown",
   "id": "61dbcde0-4538-418e-8494-295c85768681",
   "metadata": {},
   "source": [
    "# Confidence interval"
   ]
  },
  {
   "cell_type": "code",
   "execution_count": null,
   "id": "95ae9e7f-a443-4283-a5f4-177508a18ecc",
   "metadata": {},
   "outputs": [],
   "source": [
    "N_REPLICATIONS = 10000  # number of replications\n",
    "N_SAMPLES = 1000  # number of replication samples\n",
    "ETA = 0.95  # confidence level"
   ]
  },
  {
   "cell_type": "code",
   "execution_count": null,
   "id": "5272762f-8a23-4e72-b686-52cbb42a8d97",
   "metadata": {},
   "outputs": [],
   "source": [
    "dict_result = fit_ci(SCENARIO, N_REPLICATIONS, N_SAMPLES, THETA, ALPHA, ETA, qW_real, method='qW')"
   ]
  },
  {
   "cell_type": "code",
   "execution_count": null,
   "id": "da0802dd-f8e5-46ff-9d64-a3d5da824a7d",
   "metadata": {},
   "outputs": [],
   "source": [
    "coverage_probability = np.mean(dict_result[\"coverage\"])\n",
    "print(f'The coverage probability of the Weighted Quantile for a risk level {ALPHA*100}% and a confidence level {ETA*100}% is {coverage_probability*100}%')"
   ]
  },
  {
   "cell_type": "markdown",
   "id": "09dad068-d21e-4777-bb53-9715a7ea3f6f",
   "metadata": {},
   "source": [
    "## Experiments"
   ]
  },
  {
   "cell_type": "code",
   "execution_count": null,
   "id": "c2412b38-15ad-497f-8f23-ab27e66245ef",
   "metadata": {},
   "outputs": [],
   "source": [
    "# Hyperparameters\n",
    "# ===============\n",
    "N_REAL = 10000000  # number of real simulations to estimate qW\n",
    "THETA = 2  # dependence parameter in the Gumbel Copula\n",
    "N_REPLICATIONS = 10000  # number of replications\n",
    "N_SAMPLES = 1000  # number of replication samples\n",
    "ETA = 0.95  # confidence level\n",
    "ALPHAS_TEST = [0.05, 0.25, 0.5, 0.75, 0.95]  # risk levels"
   ]
  },
  {
   "cell_type": "code",
   "execution_count": null,
   "id": "9ba8a6fc-18c8-4b38-be40-dcb076861f26",
   "metadata": {},
   "outputs": [],
   "source": [
    "# Read qW dictionary\n",
    "# =================\n",
    "read_qW_dict = False\n",
    "if read_qW_dict:\n",
    "    with open(f\"ckpt/qW_n{N_REAL}_theta{THETA}.pickle\", 'rb') as fr:\n",
    "        dict_qW = pickle.load(fr)\n",
    "    print(dict_qW)"
   ]
  },
  {
   "cell_type": "code",
   "execution_count": null,
   "id": "934a31e5-0cb3-4a62-a609-d780b8e7530c",
   "metadata": {},
   "outputs": [],
   "source": [
    "df_coverage_qW = pd.DataFrame(index = ALPHAS_TEST, columns=DICT_SCENARIOS.keys())\n",
    "dict_var = {}\n",
    "for alpha in df_coverage_qW.index:\n",
    "    for scenario in df_coverage_qW.columns:\n",
    "        qW_real = get_real_data(scenario=scenario, n=N_REAL, theta=THETA, alpha=alpha, method='qW')\n",
    "        dict_result = fit_ci(scenario, N_REPLICATIONS, N_SAMPLES, THETA, alpha, ETA, qW_real, method='qW')\n",
    "        coverage_probability = np.mean(dict_result[\"coverage\"])\n",
    "        df_coverage_qW.loc[alpha, scenario] = coverage_probability"
   ]
  },
  {
   "cell_type": "code",
   "execution_count": null,
   "id": "586a01dd-0461-44d6-978e-abba8ac982dc",
   "metadata": {},
   "outputs": [],
   "source": [
    "df_coverage_qW"
   ]
  },
  {
   "cell_type": "code",
   "execution_count": null,
   "id": "d25d0918-047b-4732-8368-1b25d1e33604",
   "metadata": {
    "scrolled": true
   },
   "outputs": [],
   "source": [
    "# Plot coverage probability\n",
    "# =========================\n",
    "fig, ax = plt.subplots(figsize=(9,6))\n",
    "\n",
    "# Multiple Scenarios\n",
    "# -------------------\n",
    "for scenario in DICT_SCENARIOS.keys():\n",
    "    plt.scatter(df_coverage_qW.index, df_coverage_qW.loc[:, scenario], s=100, edgecolors='black', label=scenario)\n",
    "\n",
    "# Confidence level\n",
    "plt.hlines(ETA, df_coverage_qW.index.min(), df_coverage_qW.index.max(), linestyles='--', color='black')\n",
    "\n",
    "plt.xticks(fontsize=20)\n",
    "plt.yticks(fontsize=20)\n",
    "ax.spines[\"left\"].set_color(\"black\")\n",
    "ax.spines[\"bottom\"].set_color(\"black\")\n",
    "plt.legend(loc='lower left', title='Scenario', fontsize=15, title_fontsize=15)\n",
    "sns.despine() \n",
    "plt.tight_layout()\n",
    "#plt.savefig(f'imgs/coverage_qW_nreal{N_REAL}_nrep{N_REPLICATIONS}_nsamp{N_SAMPLES}_theta{THETA}_eta{int(ETA*100)}.jpg')"
   ]
  },
  {
   "cell_type": "markdown",
   "id": "199b78d0-2d7d-427a-b585-f77d2b8ff8a0",
   "metadata": {},
   "source": [
    "# Weighted Expected Shortfall Coverage Probability"
   ]
  },
  {
   "cell_type": "markdown",
   "id": "d0a00d35-a9d2-46a8-a581-fc9d8578b956",
   "metadata": {},
   "source": [
    "## Real Weighted ES"
   ]
  },
  {
   "cell_type": "code",
   "execution_count": null,
   "id": "0a3be233-5173-48a0-b7c7-40fce0b997aa",
   "metadata": {},
   "outputs": [],
   "source": [
    "# For a fixed alpha, compute the real ES\n",
    "ALPHA = 0.9\n",
    "esW_real = weighted_es(X_real, W_real, ALPHA)\n",
    "esW_real"
   ]
  },
  {
   "cell_type": "markdown",
   "id": "c97296ea-f962-4555-b860-a6ddd9bfbabf",
   "metadata": {},
   "source": [
    "## Confidence interval"
   ]
  },
  {
   "cell_type": "code",
   "execution_count": null,
   "id": "14f21bac-af6b-4d1a-b64d-4dee48e26c8b",
   "metadata": {},
   "outputs": [],
   "source": [
    "N_REPLICATIONS = 10000  # number of replications\n",
    "N_SAMPLES = 1000  # number of replication samples\n",
    "ETA = 0.95  # confidence level"
   ]
  },
  {
   "cell_type": "code",
   "execution_count": null,
   "id": "68569c1b-c48d-4deb-9413-d68eee3624c8",
   "metadata": {},
   "outputs": [],
   "source": [
    "dict_result = fit_ci(SCENARIO, N_REPLICATIONS, N_SAMPLES, THETA, ALPHA, ETA, esW_real, method='esW')"
   ]
  },
  {
   "cell_type": "code",
   "execution_count": null,
   "id": "e26b6ab3-5ef2-42bb-b640-fe2d44e6d10b",
   "metadata": {},
   "outputs": [],
   "source": [
    "coverage_probability = np.mean(dict_result[\"coverage\"])\n",
    "print(f'The coverage probability of the Weighted Expected Shortfall for a risk level {ALPHA*100}% and a confidence level {ETA*100}% is {coverage_probability*100}%')"
   ]
  },
  {
   "cell_type": "markdown",
   "id": "25e284a0-4d7d-43b7-a0bc-1e420cef6cb9",
   "metadata": {},
   "source": [
    "## Experiments"
   ]
  },
  {
   "cell_type": "code",
   "execution_count": null,
   "id": "731bc18d-d896-4967-a72c-2dafe3977316",
   "metadata": {},
   "outputs": [],
   "source": [
    "# Hyperparameters\n",
    "# ===============\n",
    "N_REAL = 10000000  # number of real simulations to estimate qW\n",
    "THETA = 2  # dependence parameter in the Gumbel Copula\n",
    "N_REPLICATIONS = 10000  # number of replications\n",
    "N_SAMPLES = 1000  # number of replication samples\n",
    "ETA = 0.95  # confidence level\n",
    "ALPHAS_TEST = [0.8, 0.9, 0.95, 0.975]  # risk levels"
   ]
  },
  {
   "cell_type": "code",
   "execution_count": null,
   "id": "66d989f9-ae16-473e-8181-86686846e1ca",
   "metadata": {},
   "outputs": [],
   "source": [
    "# Read esW dictionary\n",
    "# =================\n",
    "read_esW_dict = False\n",
    "if read_esW_dict:\n",
    "    with open(f\"ckpt/esW_n{N_REAL}_theta{THETA}.pickle\", 'rb') as fr:\n",
    "        dict_esW = pickle.load(fr)\n",
    "    print(dict_esW)"
   ]
  },
  {
   "cell_type": "code",
   "execution_count": null,
   "id": "8a33ddba-7537-44af-a004-a25a7d8a37bc",
   "metadata": {},
   "outputs": [],
   "source": [
    "# Estimate the coverage probability for each scenario\n",
    "df_coverage_es = pd.DataFrame(index = ALPHAS_TEST, columns=DICT_SCENARIOS.keys())\n",
    "for alpha in df_coverage_es.index:\n",
    "    for scenario in df_coverage_es.columns:\n",
    "        esW_real = get_real_data(scenario=scenario, n=N_REAL, theta=THETA, alpha=alpha, method='esW')\n",
    "        dict_result = fit_ci(scenario, N_REPLICATIONS, N_SAMPLES, THETA, alpha, ETA, esW_real, method='esW')\n",
    "        coverage_probability = np.mean(dict_result[\"coverage\"])\n",
    "        df_coverage_es.loc[alpha, scenario] = coverage_probability"
   ]
  },
  {
   "cell_type": "code",
   "execution_count": null,
   "id": "767cacae-9cb9-48d7-a44c-421042a64f52",
   "metadata": {},
   "outputs": [],
   "source": [
    "df_coverage_es"
   ]
  },
  {
   "cell_type": "code",
   "execution_count": null,
   "id": "343982d9-bea5-4d67-99fe-5d0098525505",
   "metadata": {},
   "outputs": [],
   "source": [
    "# Plot coverage probability\n",
    "# =========================\n",
    "fig, ax = plt.subplots(figsize=(9,6))\n",
    "\n",
    "# Multiple Scenarios\n",
    "# -------------------\n",
    "for scenario in DICT_SCENARIOS.keys():\n",
    "    plt.scatter(df_coverage_es.index, df_coverage_es.loc[:, scenario], s=100, edgecolors='black', label=scenario)\n",
    "\n",
    "# Confidence level\n",
    "plt.hlines(ETA, df_coverage_es.index.min(), df_coverage_es.index.max(), linestyles='--', color='black')\n",
    "\n",
    "plt.xticks(fontsize=20)\n",
    "plt.yticks(fontsize=20)\n",
    "ax.spines[\"left\"].set_color(\"black\")\n",
    "ax.spines[\"bottom\"].set_color(\"black\")\n",
    "#plt.legend(loc='lower left', title='Scenario', fontsize=15, title_fontsize=15)\n",
    "sns.despine() \n",
    "plt.tight_layout()\n",
    "#plt.savefig(f'imgs/coverage_esW_nreal{N_REAL}_nrep{N_REPLICATIONS}_nsamp{N_SAMPLES}_theta{THETA}_eta{int(ETA*100)}.jpg')"
   ]
  },
  {
   "cell_type": "markdown",
   "id": "3eaab5b8-8851-4548-bbde-d931e0db3e40",
   "metadata": {},
   "source": [
    "# Distribution of the errors for 2 risk levels"
   ]
  },
  {
   "cell_type": "code",
   "execution_count": null,
   "id": "0c69701d-2ffc-464c-b040-f02ce7e4a8d1",
   "metadata": {},
   "outputs": [],
   "source": [
    "ALPHA_1 = 0.5  # risk level of marginal 1\n",
    "ALPHA_2 = 0.9  # risk level of marginal 2\n",
    "SCENARIO = 1  # pick a scenario\n",
    "N_REAL = 10000000  # number of real simulations to estimate qW\n",
    "N_REPLICATIONS = 10000  # number of replications\n",
    "N_SAMPLES = 1000  # number of replication samples\n",
    "# --------------------\n",
    "\n",
    "# Compute the real quantiles \n",
    "qW_real_1 = get_real_data(scenario=SCENARIO, n=N_REAL, theta=THETA, alpha=ALPHA_1)\n",
    "qW_real_2 = get_real_data(scenario=SCENARIO, n=N_REAL, theta=THETA, alpha=ALPHA_2)\n",
    "\n",
    "# Fit the estimators\n",
    "dict_result_1 = fit_ci(scenario, N_REPLICATIONS, N_SAMPLES, THETA, ALPHA_1, ETA, qW_real_1)\n",
    "qW_hat_1 = dict_result_1['sW_hat']\n",
    "dict_result_2 = fit_ci(scenario, N_REPLICATIONS, N_SAMPLES, THETA, ALPHA_2, ETA, qW_real_2)\n",
    "qW_hat_2 = dict_result_2['sW_hat']"
   ]
  },
  {
   "cell_type": "code",
   "execution_count": null,
   "id": "6a2954ac-b63f-4b40-bef4-046039d76425",
   "metadata": {},
   "outputs": [],
   "source": [
    "CI_SIDE = 'right'  # confidence interval side: {'left', 'right'}\n",
    "# ---------------\n",
    "\n",
    "# Compute the errors\n",
    "error_1 =  dict_result_1[f'ci_{CI_SIDE}'] - qW_real_1\n",
    "error_2 =  dict_result_2[f'ci_{CI_SIDE}'] - qW_real_2\n",
    "\n",
    "# Estimate the parameters of the Gaussian distribution (mean, covariance)\n",
    "mu_1 = error_1.mean()\n",
    "mu_2 = error_2.mean()\n",
    "cov = np.cov(error_1, error_2)"
   ]
  },
  {
   "cell_type": "code",
   "execution_count": null,
   "id": "1f32cfb2-4462-4264-97fa-e2b23df86b4f",
   "metadata": {},
   "outputs": [],
   "source": [
    "# Scatter plot\n",
    "# ===================\n",
    "h = sns.JointGrid(x=error_1, y=error_2, height=7, ratio=4)\n",
    "h = h.plot_joint(sns.scatterplot, alpha=0.3, edgecolor='black')\n",
    "\n",
    "# Make a contour plot\n",
    "# ===================\n",
    "xx, yy = np.meshgrid(np.linspace(np.min(error_1)*0.95, np.max(error_1)*1.05, 100),\n",
    "                     np.linspace(np.min(error_2)*0.95, np.max(error_2)*1.05, 100),)\n",
    "# 2D-Gaussian distribution with empirical parameters\n",
    "gaussian_model = st.multivariate_normal(mean=np.stack([mu_1, mu_2]),\n",
    "                                       cov=cov)\n",
    "pdfs = gaussian_model.pdf(np.dstack((xx, yy)))\n",
    "h.ax_joint.contour(xx, yy, pdfs, )\n",
    "h.refline(x=mu_1, y=mu_2, color='C3')\n",
    "\n",
    "# Marginal 1\n",
    "# ==========\n",
    "h.ax_marg_x.hist(error_1, density=True, bins=50, edgecolor='black')\n",
    "h.ax_marg_x.plot(np.sort(error_1), st.norm(mu_1, np.sqrt(cov[0][0])).pdf(np.sort(error_1)), color='C1', linewidth=2)\n",
    "\n",
    "# Marginal 2\n",
    "# ==========\n",
    "h.ax_marg_y.hist(error_2, density=True, bins=50, orientation=\"horizontal\", edgecolor='black')\n",
    "h.ax_marg_y.plot(st.norm(mu_2, np.sqrt(cov[1][1])).pdf(np.sort(error_2)), np.sort(error_2), color='C1', linewidth=2,)\n",
    "\n",
    "h.ax_joint.set_label(None)\n",
    "h.ax_joint.spines[\"left\"].set_color(\"black\")\n",
    "h.ax_joint.spines[\"bottom\"].set_color(\"black\")\n",
    "h.ax_joint.set_xlabel(None)\n",
    "h.ax_joint.set_ylabel(None)\n",
    "h.figure.tight_layout()\n",
    "\n",
    "# plt.savefig(f'imgs/dist_erros_a1-{int(ALPHA_1*100)}_a1-{int(ALPHA_2*100)}_scenario-{SCENARIO}_side-{CI_SIDE}.jpg')"
   ]
  },
  {
   "cell_type": "code",
   "execution_count": null,
   "id": "e0d461ba-a7ee-49c8-9886-91c410aa61bf",
   "metadata": {},
   "outputs": [],
   "source": []
  }
 ],
 "metadata": {
  "kernelspec": {
   "display_name": "Python 3 (ipykernel)",
   "language": "python",
   "name": "python3"
  },
  "language_info": {
   "codemirror_mode": {
    "name": "ipython",
    "version": 3
   },
   "file_extension": ".py",
   "mimetype": "text/x-python",
   "name": "python",
   "nbconvert_exporter": "python",
   "pygments_lexer": "ipython3",
   "version": "3.13.5"
  }
 },
 "nbformat": 4,
 "nbformat_minor": 5
}
